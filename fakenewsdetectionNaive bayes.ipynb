{
 "cells": [
  {
   "cell_type": "code",
   "execution_count": 2,
   "id": "0f3d87de",
   "metadata": {},
   "outputs": [],
   "source": [
    "#importing necessary libraries\n",
    "\n",
    "import pandas as pd\n",
    "import numpy as np"
   ]
  },
  {
   "cell_type": "code",
   "execution_count": 3,
   "id": "bf33eccc",
   "metadata": {},
   "outputs": [
    {
     "name": "stdout",
     "output_type": "stream",
     "text": [
      "   Unnamed: 0                                              title  \\\n",
      "0        8476                       You Can Smell Hillary’s Fear   \n",
      "1       10294  Watch The Exact Moment Paul Ryan Committed Pol...   \n",
      "2        3608        Kerry to go to Paris in gesture of sympathy   \n",
      "3       10142  Bernie supporters on Twitter erupt in anger ag...   \n",
      "4         875   The Battle of New York: Why This Primary Matters   \n",
      "\n",
      "                                                text label  \n",
      "0  Daniel Greenfield, a Shillman Journalism Fello...  FAKE  \n",
      "1  Google Pinterest Digg Linkedin Reddit Stumbleu...  FAKE  \n",
      "2  U.S. Secretary of State John F. Kerry said Mon...  REAL  \n",
      "3  — Kaydee King (@KaydeeKing) November 9, 2016 T...  FAKE  \n",
      "4  It's primary day in New York and front-runners...  REAL  \n"
     ]
    }
   ],
   "source": [
    "#reading the news headline data\n",
    "\n",
    "dataset = pd.read_csv(\"fake_or_real_news.csv\")\n",
    "print(dataset.head())"
   ]
  },
  {
   "cell_type": "code",
   "execution_count": 4,
   "id": "a1f8d48e",
   "metadata": {},
   "outputs": [],
   "source": [
    "#converting the title and label columns to numpy array\n",
    "\n",
    "x = np.array(dataset[\"title\"])\n",
    "y = np.array(dataset[\"label\"])"
   ]
  },
  {
   "cell_type": "code",
   "execution_count": 5,
   "id": "a9218f0b",
   "metadata": {},
   "outputs": [],
   "source": [
    "#Improting count vectorizer and building the model\n",
    "\n",
    "from sklearn.feature_extraction.text import CountVectorizer\n",
    "\n",
    "count_vect = CountVectorizer()\n",
    "x = count_vect.fit_transform(x)"
   ]
  },
  {
   "cell_type": "code",
   "execution_count": 30,
   "id": "ce971cab",
   "metadata": {},
   "outputs": [],
   "source": [
    "#importing train_test_split and splitting the dataset into training and testing data\n",
    "\n",
    "from sklearn.model_selection import train_test_split\n",
    "xtrain, xtest, ytrain, ytest = train_test_split(x, y, test_size=0.2, random_state=10)"
   ]
  },
  {
   "cell_type": "code",
   "execution_count": 31,
   "id": "616719e0",
   "metadata": {},
   "outputs": [
    {
     "name": "stdout",
     "output_type": "stream",
     "text": [
      "83.11 %\n"
     ]
    }
   ],
   "source": [
    "#importing multinomial naive bayes and building the model on the training set\n",
    "\n",
    "from sklearn.naive_bayes import MultinomialNB\n",
    "model = MultinomialNB()\n",
    "model.fit(xtrain, ytrain)\n",
    "\n",
    "#checking the accuracy of the model\n",
    "print(round(model.score(xtest, ytest)*100,2),'%')"
   ]
  },
  {
   "cell_type": "code",
   "execution_count": 23,
   "id": "128b5231",
   "metadata": {},
   "outputs": [
    {
     "name": "stdout",
     "output_type": "stream",
     "text": [
      "['REAL']\n"
     ]
    }
   ],
   "source": [
    "#checking the news headline\n",
    "\n",
    "news_headline = \"CA Exams 2021: Supreme Court asks ICAI to extend opt-out option for July exams, final order tomorrow\"\n",
    "arr_news = count_vect.transform([news_headline]).toarray()\n",
    "print(model.predict(arr_news))"
   ]
  },
  {
   "cell_type": "code",
   "execution_count": 24,
   "id": "ef8794dc",
   "metadata": {},
   "outputs": [
    {
     "name": "stdout",
     "output_type": "stream",
     "text": [
      "['FAKE']\n"
     ]
    }
   ],
   "source": [
    "#checking the news headline\n",
    "\n",
    "news_headline = \"Cow dung can cure Corona Virus\"\n",
    "line = count_vect.transform([news_headline]).toarray()\n",
    "print(model.predict(line))"
   ]
  },
  {
   "cell_type": "code",
   "execution_count": 27,
   "id": "6b34fb2c",
   "metadata": {},
   "outputs": [
    {
     "name": "stdout",
     "output_type": "stream",
     "text": [
      "['REAL']\n"
     ]
    }
   ],
   "source": [
    "#checking the news headline\n",
    "\n",
    "news_headline = \"Joe Biden has won the elections 2021\"\n",
    "line = count_vect.transform([news_headline]).toarray()\n",
    "print(model.predict(line))"
   ]
  },
  {
   "cell_type": "code",
   "execution_count": 29,
   "id": "eab52ae2",
   "metadata": {},
   "outputs": [
    {
     "name": "stdout",
     "output_type": "stream",
     "text": [
      "['FAKE']\n"
     ]
    }
   ],
   "source": [
    "#checking the news headline\n",
    "\n",
    "news_headline = \" corona virus has vanished\"\n",
    "line = count_vect.transform([news_headline]).toarray()\n",
    "print(model.predict(line))"
   ]
  }
 ],
 "metadata": {
  "kernelspec": {
   "display_name": "Python 3",
   "language": "python",
   "name": "python3"
  },
  "language_info": {
   "codemirror_mode": {
    "name": "ipython",
    "version": 3
   },
   "file_extension": ".py",
   "mimetype": "text/x-python",
   "name": "python",
   "nbconvert_exporter": "python",
   "pygments_lexer": "ipython3",
   "version": "3.8.8"
  }
 },
 "nbformat": 4,
 "nbformat_minor": 5
}
