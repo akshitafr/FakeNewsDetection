{
 "cells": [
  {
   "cell_type": "code",
   "execution_count": 48,
   "id": "47d10754",
   "metadata": {},
   "outputs": [],
   "source": [
    "#fake news detection\n",
    "#importing libraries\n",
    "\n",
    "import numpy as np\n",
    "import pandas as pd\n",
    "import matplotlib.pyplot as plt"
   ]
  },
  {
   "cell_type": "code",
   "execution_count": 49,
   "id": "7352ad10",
   "metadata": {},
   "outputs": [],
   "source": [
    "#reading data\n",
    "\n",
    "data = pd.read_csv('fake_or_real_news.csv', delimiter = ',')"
   ]
  },
  {
   "cell_type": "code",
   "execution_count": 50,
   "id": "f42a6784",
   "metadata": {},
   "outputs": [
    {
     "name": "stdout",
     "output_type": "stream",
     "text": [
      "   Unnamed: 0                                              title  \\\n",
      "0        8476                       You Can Smell Hillary’s Fear   \n",
      "1       10294  Watch The Exact Moment Paul Ryan Committed Pol...   \n",
      "2        3608        Kerry to go to Paris in gesture of sympathy   \n",
      "3       10142  Bernie supporters on Twitter erupt in anger ag...   \n",
      "4         875   The Battle of New York: Why This Primary Matters   \n",
      "\n",
      "                                                text label  \n",
      "0  Daniel Greenfield, a Shillman Journalism Fello...  FAKE  \n",
      "1  Google Pinterest Digg Linkedin Reddit Stumbleu...  FAKE  \n",
      "2  U.S. Secretary of State John F. Kerry said Mon...  REAL  \n",
      "3  — Kaydee King (@KaydeeKing) November 9, 2016 T...  FAKE  \n",
      "4  It's primary day in New York and front-runners...  REAL  \n"
     ]
    }
   ],
   "source": [
    "#printing the head\n",
    "\n",
    "print(data.head())"
   ]
  },
  {
   "cell_type": "code",
   "execution_count": 51,
   "id": "4a17f920",
   "metadata": {},
   "outputs": [
    {
     "name": "stdout",
     "output_type": "stream",
     "text": [
      "0    FAKE\n",
      "1    FAKE\n",
      "2    REAL\n",
      "3    FAKE\n",
      "4    REAL\n",
      "Name: label, dtype: object\n"
     ]
    }
   ],
   "source": [
    "#getting label column in a separate variable\n",
    "\n",
    "labels = data.label\n",
    "print(labels.head())"
   ]
  },
  {
   "cell_type": "code",
   "execution_count": 27,
   "id": "595da9e1",
   "metadata": {},
   "outputs": [
    {
     "name": "stdout",
     "output_type": "stream",
     "text": [
      "REAL    3171\n",
      "FAKE    3164\n",
      "Name: label, dtype: int64\n"
     ]
    }
   ],
   "source": [
    "#getting counts of label i.e. real or fake\n",
    "\n",
    "target = data.label.value_counts()\n",
    "print(target)\n",
    "target = pd.DataFrame(target)"
   ]
  },
  {
   "cell_type": "code",
   "execution_count": 43,
   "id": "f50c4a92",
   "metadata": {},
   "outputs": [],
   "source": [
    "# creating the dataset\n",
    "data = {'REAL':3171, 'FAKE':3164}\n",
    "labels = list(data.keys())\n",
    "values = list(data.values())"
   ]
  },
  {
   "cell_type": "code",
   "execution_count": 44,
   "id": "9405eb81",
   "metadata": {},
   "outputs": [
    {
     "data": {
      "image/png": "[encoded data removed]",
      "text/plain": [
       "<Figure size 432x288 with 1 Axes>"
      ]
     },
     "metadata": {},
     "output_type": "display_data"
    }
   ],
   "source": [
    "plt.bar(labels, values, color ='maroon',\n",
    "        width = 0.4)\n",
    "plt.title(\"Real Vs Fake Distribution\")\n",
    "plt.show()"
   ]
  },
  {
   "cell_type": "code",
   "execution_count": 13,
   "id": "1ee71892",
   "metadata": {},
   "outputs": [],
   "source": [
    "#splitting the dataset into training and testing sets\n",
    "\n",
    "from sklearn.model_selection import train_test_split\n",
    "xtrain, xtest, ytrain, ytest = train_test_split(data['text'], labels, test_size=0.2, \n",
    "                                                random_state=1)"
   ]
  },
  {
   "cell_type": "code",
   "execution_count": 14,
   "id": "9c7f8996",
   "metadata": {},
   "outputs": [],
   "source": [
    "#importing the tfidf vectorizer - transforms the freq of words into number\n",
    "#building the vectorizer upon the dataset\n",
    "\n",
    "from sklearn.feature_extraction.text import TfidfVectorizer\n",
    "tfidf = TfidfVectorizer(stop_words='english', max_df=0.7)\n",
    "train = tfidf.fit_transform(xtrain)\n",
    "test = tfidf.transform(xtest)"
   ]
  },
  {
   "cell_type": "code",
   "execution_count": 16,
   "id": "8b5caf79",
   "metadata": {},
   "outputs": [
    {
     "name": "stdout",
     "output_type": "stream",
     "text": [
      "Accuracy Score of Passive Aggresive Scassifier: 94.48%\n"
     ]
    }
   ],
   "source": [
    "#importing the passive aggressive classifier - online learning algorithm \n",
    "#which trains a system incrementally by feeding in the data sequentially\n",
    "\n",
    "#training the classifier on the training data\n",
    "\n",
    "from sklearn.linear_model import PassiveAggressiveClassifier\n",
    "pac = PassiveAggressiveClassifier(max_iter=50)\n",
    "pac.fit(train, ytrain)\n",
    "\n",
    "#predicting the label of test set\n",
    "\n",
    "ypred = pac.predict(test)\n",
    "\n",
    "#checking the accuracy of the built model\n",
    "\n",
    "from sklearn.metrics import accuracy_score, confusion_matrix\n",
    "accuracy = accuracy_score(ytest, ypred)\n",
    "print(f'Accuracy Score of Passive Aggresive Scassifier: {round(accuracy*100,2)}%')"
   ]
  },
  {
   "cell_type": "code",
   "execution_count": 17,
   "id": "ec393501",
   "metadata": {},
   "outputs": [
    {
     "name": "stdout",
     "output_type": "stream",
     "text": [
      "[[615  36]\n",
      " [ 34 582]]\n"
     ]
    }
   ],
   "source": [
    "#printing the confusion matrix\n",
    "print(confusion_matrix(ytest, ypred, labels=[\"FAKE\", \"REAL\"]))"
   ]
  }
 ],
 "metadata": {
  "kernelspec": {
   "display_name": "Python 3",
   "language": "python",
   "name": "python3"
  },
  "language_info": {
   "codemirror_mode": {
    "name": "ipython",
    "version": 3
   },
   "file_extension": ".py",
   "mimetype": "text/x-python",
   "name": "python",
   "nbconvert_exporter": "python",
   "pygments_lexer": "ipython3",
   "version": "3.8.8"
  }
 },
 "nbformat": 4,
 "nbformat_minor": 5
}
